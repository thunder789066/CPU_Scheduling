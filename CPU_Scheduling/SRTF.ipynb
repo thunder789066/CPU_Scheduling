{
  "nbformat": 4,
  "nbformat_minor": 0,
  "metadata": {
    "colab": {
      "name": "431_hw3_SRTF",
      "provenance": [],
      "collapsed_sections": []
    },
    "kernelspec": {
      "name": "python3",
      "display_name": "Python 3"
    },
    "language_info": {
      "name": "python"
    }
  },
  "cells": [
    {
      "cell_type": "code",
      "source": [
        "import pandas as pd\n",
        "import sys\n",
        "\n",
        "data = pd.read_csv('/content/data.csv', header=None)"
      ],
      "metadata": {
        "id": "wCHo8pxvx4A-"
      },
      "execution_count": 12,
      "outputs": []
    },
    {
      "cell_type": "code",
      "source": [
        "# total wait time\n",
        "def getwaitingTime(process, n, wt):\n",
        "\trt = [0] * n\n",
        "\n",
        "\tfor i in range(n):\n",
        "\t\trt[i]=process[i][2]\n",
        "\n",
        "\tcomplete=0\n",
        "\tshort=0\n",
        "\tcurrent_t=0\n",
        "\tmin_t=sys.maxsize\n",
        "\tflag=False\n",
        "\n",
        "\twhile(complete!=n):\n",
        "\t\tfor i in range(n):\n",
        "\t\t\tif process[i][1]<=current_t and rt[i]<min_t and rt[i]>0:\n",
        "\t\t\t\tmin_t=rt[i]\n",
        "\t\t\t\tshort=i\n",
        "\t\t\t\tflag=True\n",
        "\n",
        "\t\tif flag==False:\n",
        "\t\t\tcurrent_t+=1\n",
        "\t\t\tcontinue\n",
        "\n",
        "\t\trt[short]-=1\n",
        "\t\tmin_t=rt[short]\n",
        "\n",
        "\t\tif(min_t==0):\n",
        "\t\t\tmin_t=sys.maxsize\n",
        "\n",
        "\t\tif rt[short]==0:\n",
        "\t\t\tcomplete+=1\n",
        "\t\t\tflag=False\n",
        "\t\t\tfinal_t=current_t+1\n",
        "\t\t\twt[short]=final_t-process[short][1]-process[short][2]\n",
        "\n",
        "\t\t\tif wt[short]<0:\n",
        "\t\t\t\twt[short]=0\n",
        "\n",
        "\t\tcurrent_t+=1\n",
        "\t\n",
        "# total turn around time\n",
        "def getturnAroundtime(process, n, wt, tat):\n",
        "\tfor i in range(n):\n",
        "\t\ttat[i]=process[i][2]+wt[i]\n",
        "\n",
        "# total response time\n",
        "def getResponseTime(processes, n, tat, at, rt):\n",
        "\tfor i in range(n):\n",
        "\t\trt[i] = tat[i] + at[i]\n",
        "\n",
        "def avgTime(process, n, at):\n",
        "\twt = [0] * n\n",
        "\ttat = [0] * n\n",
        "\trpt = [0] * n\n",
        "\ttotal_wt = 0\n",
        "\ttotal_tat = 0\n",
        "\ttotal_rt = 0\n",
        "\n",
        "\tgetwaitingTime(process, n, wt)\n",
        "\tgetturnAroundtime(process, n, wt, tat)\n",
        "\tgetResponseTime(process, n, tat, at, rpt)\n",
        "\n",
        "\tfor i in range(n):\n",
        "\t\ttotal_wt=total_wt+wt[i]\n",
        "\n",
        "\tfor i in range(n):\n",
        "\t\ttotal_tat=total_tat+tat[i]\n",
        "\n",
        "\tfor i in range(n):\n",
        "\t\ttotal_rt = total_rt + rpt[i]\n",
        "\n",
        "\tavg_wt = total_wt/n\n",
        "\tavg_tat = total_tat/n\n",
        "\tavg_rt = total_rt/n\n",
        "\n",
        "\tdisplay(process, n, wt, tat, rpt, avg_wt, avg_tat, avg_rt)\n",
        "\n",
        "def getArrivalTime(process):\n",
        "  arrival_temp = []\n",
        "  for i in process:\n",
        "    arrival_temp.append(i[1])\n",
        "  return arrival_temp\n",
        "\n",
        "def display(process, n, wt, tat, rpt, avg_wt, avg_tat, avg_rt):\n",
        "\tprint( \"Processes | Arrival Time | Burst time | Waiting time | Turn around time | Reponse time\")\n",
        "\n",
        "\tfor i in range(n):\n",
        "\t\tprint('{}\\t\\t{}\\t\\t{}\\t\\t{}\\t\\t{}\\t\\t{}'.format(process[i][0], process[i][1], process[i][2], wt[i], tat[i], rpt[i]))\n",
        "\n",
        "\tprint('\\nAvg Wait time = ', avg_wt)\n",
        "\tprint('Avg Turn Around time = ', avg_tat)\n",
        "\tprint('Avg Response time = ', avg_rt)\n",
        "\n",
        "if __name__=='__main__':\n",
        "  data = data.iloc[: , :-1] # drops last col (priority)\n",
        "  temp = data.to_numpy()\n",
        "  process = temp.tolist()\n",
        "\n",
        "  at = getArrivalTime(process)\n",
        "\n",
        "  n = len(process)\n",
        "\n",
        "  avgTime(process, n, at)"
      ],
      "metadata": {
        "colab": {
          "base_uri": "https://localhost:8080/"
        },
        "id": "7aUxSauSxzsj",
        "outputId": "c852389f-1c20-4285-8dfb-b2ef2c030f40"
      },
      "execution_count": 13,
      "outputs": [
        {
          "output_type": "stream",
          "name": "stdout",
          "text": [
            "Processes | Arrival Time | Burst time | Waiting time | Turn around time | Reponse time\n",
            "1\t\t0\t\t8\t\t11\t\t19\t\t19\n",
            "2\t\t1\t\t4\t\t0\t\t4\t\t5\n",
            "3\t\t2\t\t9\t\t17\t\t26\t\t28\n",
            "4\t\t3\t\t5\t\t4\t\t9\t\t12\n",
            "5\t\t4\t\t2\t\t1\t\t3\t\t7\n",
            "\n",
            "Avg Wait time =  6.6\n",
            "Avg Turn Around time =  12.2\n",
            "Avg Response time =  14.2\n"
          ]
        }
      ]
    }
  ]
}