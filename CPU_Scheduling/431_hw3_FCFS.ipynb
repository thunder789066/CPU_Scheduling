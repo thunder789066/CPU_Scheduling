{
  "nbformat": 4,
  "nbformat_minor": 0,
  "metadata": {
    "colab": {
      "name": "431_hw3_FCFS",
      "provenance": [],
      "collapsed_sections": []
    },
    "kernelspec": {
      "name": "python3",
      "display_name": "Python 3"
    },
    "language_info": {
      "name": "python"
    }
  },
  "cells": [
    {
      "cell_type": "code",
      "source": [
        "import pandas as pd\n",
        "\n",
        "data = pd.read_csv('data.csv', header=None)"
      ],
      "metadata": {
        "id": "wCHo8pxvx4A-"
      },
      "execution_count": 48,
      "outputs": []
    },
    {
      "cell_type": "code",
      "source": [
        "# FCFS scheduling\n",
        "\n",
        "# total wait time\n",
        "def getWaitingTime(processes, n, bt, wt):\n",
        "\twt[0] = 0\n",
        "\tfor i in range(1, n):\n",
        "\t\twt[i] = bt[i - 1] + wt[i - 1]\n",
        "\n",
        "# total turn around time\n",
        "def getTurnAroundTime(processes, n, bt, wt, tat):\n",
        "\tfor i in range(n):\n",
        "\t\ttat[i] = bt[i] + wt[i]\n",
        "\n",
        "def findavgTime(processes, n, bt):\n",
        "  wt = [0] * n\n",
        "  tat = [0] * n\n",
        "  total_wt = 0\n",
        "  total_tat = 0\n",
        "\n",
        "  getWaitingTime(processes, n, bt, wt)\n",
        "  getTurnAroundTime(processes, n, bt, wt, tat)\n",
        "\n",
        "\n",
        "  # Output\n",
        "  print( \"Processes | Burst time | Waiting time | Turn around time | Reponse time\")\n",
        "\n",
        "  for i in range(n):\n",
        "    total_wt = total_wt + wt[i]\n",
        "    total_tat = total_tat + tat[i]\n",
        "\n",
        "    print(\" \" + str(i + 1) + \"\\t\\t\" +\n",
        "      str(bt[i]) + \"\\t\\t\" +\n",
        "      str(wt[i]) + \"\\t\\t\" +\n",
        "      str(tat[i]) + \"\\t\\t\" +\n",
        "      str(tat[i]))\n",
        "\n",
        "  print(\"\\nAvg Wait time = \" + str(total_wt / n))\n",
        "  print(\"Avg Turn Around time = \" + str(total_tat / n))\n",
        "  print(\"Avg Response time = \" + str(total_tat / n))\n",
        "  print(\"\\n\")\n",
        "\n",
        "# Main method\n",
        "if __name__ ==\"__main__\":\n",
        "  processes_temp = data[0].to_numpy()\n",
        "  arrival_time_temp = data[1].to_numpy()\n",
        "  burst_time_temp = data[2].to_numpy()\n",
        "\n",
        "  processes = []\n",
        "  arrival_time = []\n",
        "  burst_time = []\n",
        "\n",
        "  for i in processes_temp:\n",
        "    processes.append(i)\n",
        "\n",
        "  for i in arrival_time_temp:\n",
        "    arrival_time.append(i)\n",
        "\n",
        "  for i in burst_time_temp:\n",
        "    burst_time.append(i)\n",
        "\n",
        "  print(processes)\n",
        "\n",
        "  n = len(processes)\n",
        "  \n",
        "  findavgTime(processes, n, burst_time)\n"
      ],
      "metadata": {
        "colab": {
          "base_uri": "https://localhost:8080/"
        },
        "id": "7aUxSauSxzsj",
        "outputId": "4b3525d1-b382-43c4-a06a-81848e5f339c"
      },
      "execution_count": 51,
      "outputs": [
        {
          "output_type": "stream",
          "name": "stdout",
          "text": [
            "[1, 2, 3, 4, 5]\n",
            "Processes | Burst time | Waiting time | Turn around time | Reponse time\n",
            " 1\t\t8\t\t0\t\t8\t\t8\n",
            " 2\t\t4\t\t8\t\t12\t\t12\n",
            " 3\t\t9\t\t12\t\t21\t\t21\n",
            " 4\t\t5\t\t21\t\t26\t\t26\n",
            " 5\t\t2\t\t26\t\t28\t\t28\n",
            "\n",
            "Avg Wait time = 13.4\n",
            "Avg Turn Around time = 19.0\n",
            "Avg Response time = 19.0\n",
            "\n",
            "\n"
          ]
        }
      ]
    }
  ]
}